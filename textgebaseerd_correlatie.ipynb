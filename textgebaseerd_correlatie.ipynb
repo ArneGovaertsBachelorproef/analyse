{
 "cells": [
  {
   "cell_type": "markdown",
   "metadata": {},
   "source": [
    "# Correlatie tussen NLP model en \"eenvoudige\" methodes\n",
    "## Ophalen gegevens"
   ]
  },
  {
   "cell_type": "code",
   "execution_count": 221,
   "metadata": {},
   "outputs": [
    {
     "name": "stdout",
     "output_type": "stream",
     "text": [
      "Aantal kolommen: 7\n",
      "Aantal rijen: 38\n"
     ]
    },
    {
     "data": {
      "text/html": [
       "<div>\n",
       "<style scoped>\n",
       "    .dataframe tbody tr th:only-of-type {\n",
       "        vertical-align: middle;\n",
       "    }\n",
       "\n",
       "    .dataframe tbody tr th {\n",
       "        vertical-align: top;\n",
       "    }\n",
       "\n",
       "    .dataframe thead th {\n",
       "        text-align: right;\n",
       "    }\n",
       "</style>\n",
       "<table border=\"1\" class=\"dataframe\">\n",
       "  <thead>\n",
       "    <tr style=\"text-align: right;\">\n",
       "      <th></th>\n",
       "      <th>cilt</th>\n",
       "      <th>woordlengteratio</th>\n",
       "      <th>aantal_collectieve_voornaamwoorden</th>\n",
       "      <th>aantal_bevestigende_tussenwerpsels</th>\n",
       "      <th>aantal_verkleinwoorden</th>\n",
       "      <th>aantal_herhalingen</th>\n",
       "      <th>textcat_elderspeak_score</th>\n",
       "    </tr>\n",
       "  </thead>\n",
       "  <tbody>\n",
       "    <tr>\n",
       "      <th>33</th>\n",
       "      <td>65.17</td>\n",
       "      <td>0.084034</td>\n",
       "      <td>5</td>\n",
       "      <td>0</td>\n",
       "      <td>3</td>\n",
       "      <td>4</td>\n",
       "      <td>0.142113</td>\n",
       "    </tr>\n",
       "    <tr>\n",
       "      <th>34</th>\n",
       "      <td>64.14</td>\n",
       "      <td>0.068966</td>\n",
       "      <td>2</td>\n",
       "      <td>0</td>\n",
       "      <td>2</td>\n",
       "      <td>4</td>\n",
       "      <td>0.032702</td>\n",
       "    </tr>\n",
       "    <tr>\n",
       "      <th>35</th>\n",
       "      <td>64.22</td>\n",
       "      <td>0.065693</td>\n",
       "      <td>7</td>\n",
       "      <td>0</td>\n",
       "      <td>7</td>\n",
       "      <td>7</td>\n",
       "      <td>0.000798</td>\n",
       "    </tr>\n",
       "    <tr>\n",
       "      <th>36</th>\n",
       "      <td>65.18</td>\n",
       "      <td>0.056075</td>\n",
       "      <td>5</td>\n",
       "      <td>0</td>\n",
       "      <td>1</td>\n",
       "      <td>4</td>\n",
       "      <td>0.022516</td>\n",
       "    </tr>\n",
       "    <tr>\n",
       "      <th>37</th>\n",
       "      <td>61.31</td>\n",
       "      <td>0.106796</td>\n",
       "      <td>6</td>\n",
       "      <td>0</td>\n",
       "      <td>5</td>\n",
       "      <td>3</td>\n",
       "      <td>0.000624</td>\n",
       "    </tr>\n",
       "  </tbody>\n",
       "</table>\n",
       "</div>"
      ],
      "text/plain": [
       "     cilt  woordlengteratio  aantal_collectieve_voornaamwoorden  \\\n",
       "33  65.17          0.084034                                   5   \n",
       "34  64.14          0.068966                                   2   \n",
       "35  64.22          0.065693                                   7   \n",
       "36  65.18          0.056075                                   5   \n",
       "37  61.31          0.106796                                   6   \n",
       "\n",
       "    aantal_bevestigende_tussenwerpsels  aantal_verkleinwoorden  \\\n",
       "33                                   0                       3   \n",
       "34                                   0                       2   \n",
       "35                                   0                       7   \n",
       "36                                   0                       1   \n",
       "37                                   0                       5   \n",
       "\n",
       "    aantal_herhalingen  textcat_elderspeak_score  \n",
       "33                   4                  0.142113  \n",
       "34                   4                  0.032702  \n",
       "35                   7                  0.000798  \n",
       "36                   4                  0.022516  \n",
       "37                   3                  0.000624  "
      ]
     },
     "execution_count": 221,
     "metadata": {},
     "output_type": "execute_result"
    }
   ],
   "source": [
    "import sqlite3\n",
    "import numpy as np\n",
    "import pandas as pd\n",
    "import scipy.stats as st\n",
    "import matplotlib.pyplot as plt\n",
    "%matplotlib inline\n",
    "\n",
    "db_file = 'elderspeak_detect.db'\n",
    "con = sqlite3.connect(db_file)\n",
    "df = pd.read_sql_query('''select        tr.cilt,\n",
    "                                        tr.woordlengteratio,\n",
    "                                        tr.aantal_collectieve_voornaamwoorden,\n",
    "                                        tr.aantal_bevestigende_tussenwerpsels,\n",
    "                                        tr.aantal_verkleinwoorden,\n",
    "                                        tr.aantal_herhalingen,\n",
    "                                        tr.textcat_elderspeak_score\n",
    "                          from tekst_resultaten tr\n",
    "                          join teksten t on t.tekst_id = tr.tekst_id\n",
    "                          where t.methode = 'GOOGLE_ENKEL_NL_BE'\n",
    "                          and   tr.cilt > 0\n",
    "                          and   tr.woordlengteratio > 0;''', con)\n",
    "con.close()\n",
    "\n",
    "print(f\"Aantal kolommen: { len(df.columns) }\")\n",
    "print(f\"Aantal rijen: { len(df.index) }\")\n",
    "df.tail()"
   ]
  },
  {
   "cell_type": "code",
   "execution_count": 252,
   "metadata": {},
   "outputs": [],
   "source": [
    "textcat_elderspeak_score            = df['textcat_elderspeak_score']\n",
    "cilt                                = df['cilt']\n",
    "woordlengteratio                    = df['woordlengteratio']\n",
    "aantal_collectieve_voornaamwoorden  = df['aantal_collectieve_voornaamwoorden']\n",
    "aantal_bevestigende_tussenwerpsels  = df['aantal_bevestigende_tussenwerpsels']\n",
    "aantal_verkleinwoorden              = df['aantal_verkleinwoorden']\n",
    "aantal_herhalingen                  = df['aantal_herhalingen']"
   ]
  },
  {
   "cell_type": "code",
   "execution_count": null,
   "metadata": {},
   "outputs": [],
   "source": [
    "pd.crosstab(df['textcat_res'], df['cilt'])"
   ]
  },
  {
   "cell_type": "code",
   "execution_count": null,
   "metadata": {},
   "outputs": [],
   "source": [
    "pd.crosstab(df['textcat_res'], df['woordlengteratio'])"
   ]
  },
  {
   "cell_type": "code",
   "execution_count": null,
   "metadata": {},
   "outputs": [],
   "source": [
    "pd.crosstab(df['textcat_res'], df['aantal_collectieve_voornaamwoorden'])"
   ]
  },
  {
   "cell_type": "code",
   "execution_count": null,
   "metadata": {},
   "outputs": [],
   "source": [
    "pd.crosstab(df['textcat_res'], df['aantal_bevestigende_tussenwerpsels'])"
   ]
  },
  {
   "cell_type": "code",
   "execution_count": null,
   "metadata": {},
   "outputs": [],
   "source": [
    "pd.crosstab(df['textcat_res'], df['aantal_verkleinwoorden'])"
   ]
  },
  {
   "cell_type": "code",
   "execution_count": null,
   "metadata": {},
   "outputs": [],
   "source": [
    "pd.crosstab(df['textcat_res'], df['aantal_herhalingen'])"
   ]
  },
  {
   "cell_type": "code",
   "execution_count": null,
   "metadata": {},
   "outputs": [],
   "source": [
    "pd.crosstab(df['cilt'], df['woordlengteratio'])"
   ]
  },
  {
   "cell_type": "code",
   "execution_count": null,
   "metadata": {},
   "outputs": [],
   "source": [
    "pd.crosstab(df['cilt'], df['aantal_collectieve_voornaamwoorden'])"
   ]
  },
  {
   "cell_type": "code",
   "execution_count": null,
   "metadata": {},
   "outputs": [],
   "source": [
    "pd.crosstab(df['cilt'], df['aantal_bevestigende_tussenwerpsels'])"
   ]
  },
  {
   "cell_type": "code",
   "execution_count": null,
   "metadata": {},
   "outputs": [],
   "source": [
    "pd.crosstab(df['cilt'], df['aantal_verkleinwoorden'])"
   ]
  },
  {
   "cell_type": "code",
   "execution_count": null,
   "metadata": {},
   "outputs": [],
   "source": [
    "pd.crosstab(df['cilt'], df['aantal_herhalingen'])"
   ]
  },
  {
   "cell_type": "code",
   "execution_count": null,
   "metadata": {},
   "outputs": [],
   "source": [
    "pd.crosstab(df['cilt'], df['textcat_res'])"
   ]
  },
  {
   "cell_type": "code",
   "execution_count": null,
   "metadata": {},
   "outputs": [],
   "source": [
    "pd.crosstab(df['cilt'], df['aantal_collectieve_voornaamwoorden'])"
   ]
  },
  {
   "cell_type": "code",
   "execution_count": null,
   "metadata": {},
   "outputs": [],
   "source": [
    "pd.crosstab(df['cilt'], df['aantal_bevestigende_tussenwerpsels'])"
   ]
  }
 ],
 "metadata": {
  "interpreter": {
   "hash": "234ae9a461af8731f16be4e674333b755216e5335b7ae2874707933750cadcd6"
  },
  "kernelspec": {
   "display_name": "Python 3.9.1 ('env': venv)",
   "language": "python",
   "name": "python3"
  },
  "language_info": {
   "codemirror_mode": {
    "name": "ipython",
    "version": 3
   },
   "file_extension": ".py",
   "mimetype": "text/x-python",
   "name": "python",
   "nbconvert_exporter": "python",
   "pygments_lexer": "ipython3",
   "version": "3.9.1"
  },
  "orig_nbformat": 4
 },
 "nbformat": 4,
 "nbformat_minor": 2
}

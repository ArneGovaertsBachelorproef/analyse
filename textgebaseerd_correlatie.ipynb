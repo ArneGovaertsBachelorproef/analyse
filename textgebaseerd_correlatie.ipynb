{
 "cells": [
  {
   "cell_type": "markdown",
   "metadata": {},
   "source": [
    "# Correlatie tussen NLP model en \"eenvoudige\" methodes\n",
    "## Ophalen gegevens"
   ]
  },
  {
   "cell_type": "code",
   "execution_count": null,
   "metadata": {},
   "outputs": [],
   "source": [
    "import sqlite3\n",
    "import numpy as np\n",
    "import pandas as pd\n",
    "import scipy.stats as st\n",
    "import matplotlib.pyplot as plt\n",
    "%matplotlib inline\n",
    "\n",
    "db_file = 'elderspeak_detect.db'\n",
    "con = sqlite3.connect(db_file)\n",
    "df = pd.read_sql_query('''select        tr.cilt,\n",
    "                                        tr.woordlengteratio,\n",
    "                                        tr.aantal_collectieve_voornaamwoorden,\n",
    "                                        tr.aantal_bevestigende_tussenwerpsels,\n",
    "                                        tr.aantal_verkleinwoorden,\n",
    "                                        tr.aantal_herhalingen,\n",
    "                                        tr.textcat_elderspeak_score\n",
    "                          from tekst_resultaten tr\n",
    "                          join teksten t on t.tekst_id = tr.tekst_id\n",
    "                          where t.methode = 'GOOGLE_ENKEL_NL_BE'\n",
    "                          and   tr.cilt > 0\n",
    "                          and   tr.woordlengteratio > 0;''', con)\n",
    "con.close()\n",
    "\n",
    "print(f\"Aantal kolommen: { len(df.columns) }\")\n",
    "print(f\"Aantal rijen: { len(df.index) }\")\n",
    "df.tail()"
   ]
  },
  {
   "cell_type": "code",
   "execution_count": null,
   "metadata": {},
   "outputs": [],
   "source": [
    "textcat_elderspeak_score            = df['textcat_elderspeak_score']\n",
    "cilt                                = df['cilt']\n",
    "woordlengteratio                    = df['woordlengteratio']\n",
    "aantal_collectieve_voornaamwoorden  = df['aantal_collectieve_voornaamwoorden']\n",
    "aantal_bevestigende_tussenwerpsels  = df['aantal_bevestigende_tussenwerpsels']\n",
    "aantal_verkleinwoorden              = df['aantal_verkleinwoorden']\n",
    "aantal_herhalingen                  = df['aantal_herhalingen']"
   ]
  },
  {
   "cell_type": "code",
   "execution_count": null,
   "metadata": {},
   "outputs": [],
   "source": [
    "pd.crosstab(df['textcat_elderspeak_score'], df['cilt'])"
   ]
  },
  {
   "cell_type": "code",
   "execution_count": null,
   "metadata": {},
   "outputs": [],
   "source": [
    "pd.crosstab(df['textcat_elderspeak_score'], df['woordlengteratio'])"
   ]
  },
  {
   "cell_type": "code",
   "execution_count": null,
   "metadata": {},
   "outputs": [],
   "source": [
    "pd.crosstab(df['textcat_elderspeak_score'], df['aantal_collectieve_voornaamwoorden'])"
   ]
  },
  {
   "cell_type": "code",
   "execution_count": null,
   "metadata": {},
   "outputs": [],
   "source": [
    "pd.crosstab(df['textcat_elderspeak_score'], df['aantal_bevestigende_tussenwerpsels'])"
   ]
  },
  {
   "cell_type": "code",
   "execution_count": null,
   "metadata": {},
   "outputs": [],
   "source": [
    "pd.crosstab(df['textcat_elderspeak_score'], df['aantal_verkleinwoorden'])"
   ]
  },
  {
   "cell_type": "code",
   "execution_count": null,
   "metadata": {},
   "outputs": [],
   "source": [
    "pd.crosstab(df['textcat_elderspeak_score'], df['aantal_herhalingen'])"
   ]
  },
  {
   "cell_type": "code",
   "execution_count": null,
   "metadata": {},
   "outputs": [],
   "source": [
    "pd.crosstab(df['cilt'], df['woordlengteratio'])"
   ]
  },
  {
   "cell_type": "code",
   "execution_count": null,
   "metadata": {},
   "outputs": [],
   "source": [
    "pd.crosstab(df['cilt'], df['aantal_collectieve_voornaamwoorden'])"
   ]
  },
  {
   "cell_type": "code",
   "execution_count": null,
   "metadata": {},
   "outputs": [],
   "source": [
    "pd.crosstab(df['cilt'], df['aantal_bevestigende_tussenwerpsels'])"
   ]
  },
  {
   "cell_type": "code",
   "execution_count": null,
   "metadata": {},
   "outputs": [],
   "source": [
    "pd.crosstab(df['cilt'], df['aantal_verkleinwoorden'])"
   ]
  },
  {
   "cell_type": "code",
   "execution_count": null,
   "metadata": {},
   "outputs": [],
   "source": [
    "pd.crosstab(df['cilt'], df['aantal_herhalingen'])"
   ]
  },
  {
   "cell_type": "code",
   "execution_count": null,
   "metadata": {},
   "outputs": [],
   "source": [
    "pd.crosstab(df['cilt'], df['textcat_elderspeak_score'])"
   ]
  },
  {
   "cell_type": "code",
   "execution_count": null,
   "metadata": {},
   "outputs": [],
   "source": [
    "pd.crosstab(df['cilt'], df['aantal_collectieve_voornaamwoorden'])"
   ]
  },
  {
   "cell_type": "code",
   "execution_count": null,
   "metadata": {},
   "outputs": [],
   "source": [
    "pd.crosstab(df['cilt'], df['aantal_bevestigende_tussenwerpsels'])"
   ]
  }
 ],
 "metadata": {
  "kernelspec": {
   "display_name": "Python 3.9.1 ('env': venv)",
   "language": "python",
   "name": "python3"
  },
  "language_info": {
   "codemirror_mode": {
    "name": "ipython",
    "version": 3
   },
   "file_extension": ".py",
   "mimetype": "text/x-python",
   "name": "python",
   "nbconvert_exporter": "python",
   "pygments_lexer": "ipython3",
   "version": "3.9.1"
  },
  "orig_nbformat": 4,
  "vscode": {
   "interpreter": {
    "hash": "19eb31929b50a37331e62716fce4d256aad4578a43d06d6bf0b4fbfaee5be65e"
   }
  }
 },
 "nbformat": 4,
 "nbformat_minor": 2
}

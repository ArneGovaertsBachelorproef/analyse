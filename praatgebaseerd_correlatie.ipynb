{
 "cells": [
  {
   "cell_type": "markdown",
   "metadata": {},
   "source": [
    "# Correlatie tussen PRAAT kenmerken en NLP model\n",
    "## Ophalen gegevens"
   ]
  },
  {
   "cell_type": "code",
   "execution_count": 112,
   "metadata": {},
   "outputs": [
    {
     "name": "stdout",
     "output_type": "stream",
     "text": [
      "Aantal kolommen: 4\n",
      "Aantal rijen: 39\n"
     ]
    },
    {
     "data": {
      "text/html": [
       "<div>\n",
       "<style scoped>\n",
       "    .dataframe tbody tr th:only-of-type {\n",
       "        vertical-align: middle;\n",
       "    }\n",
       "\n",
       "    .dataframe tbody tr th {\n",
       "        vertical-align: top;\n",
       "    }\n",
       "\n",
       "    .dataframe thead th {\n",
       "        text-align: right;\n",
       "    }\n",
       "</style>\n",
       "<table border=\"1\" class=\"dataframe\">\n",
       "  <thead>\n",
       "    <tr style=\"text-align: right;\">\n",
       "      <th></th>\n",
       "      <th>spraaksnelheid</th>\n",
       "      <th>geluidsniveau</th>\n",
       "      <th>toonhoogte</th>\n",
       "      <th>textcat_elderspeak_score</th>\n",
       "    </tr>\n",
       "  </thead>\n",
       "  <tbody>\n",
       "    <tr>\n",
       "      <th>34</th>\n",
       "      <td>3.730843</td>\n",
       "      <td>74.908909</td>\n",
       "      <td>200.939246</td>\n",
       "      <td>0.142113</td>\n",
       "    </tr>\n",
       "    <tr>\n",
       "      <th>35</th>\n",
       "      <td>2.952756</td>\n",
       "      <td>73.815941</td>\n",
       "      <td>103.066537</td>\n",
       "      <td>0.032702</td>\n",
       "    </tr>\n",
       "    <tr>\n",
       "      <th>36</th>\n",
       "      <td>3.581527</td>\n",
       "      <td>69.460416</td>\n",
       "      <td>255.741484</td>\n",
       "      <td>0.000798</td>\n",
       "    </tr>\n",
       "    <tr>\n",
       "      <th>37</th>\n",
       "      <td>3.959729</td>\n",
       "      <td>71.208296</td>\n",
       "      <td>297.522137</td>\n",
       "      <td>0.022516</td>\n",
       "    </tr>\n",
       "    <tr>\n",
       "      <th>38</th>\n",
       "      <td>3.415560</td>\n",
       "      <td>69.129282</td>\n",
       "      <td>195.178867</td>\n",
       "      <td>0.000624</td>\n",
       "    </tr>\n",
       "  </tbody>\n",
       "</table>\n",
       "</div>"
      ],
      "text/plain": [
       "    spraaksnelheid  geluidsniveau  toonhoogte  textcat_elderspeak_score\n",
       "34        3.730843      74.908909  200.939246                  0.142113\n",
       "35        2.952756      73.815941  103.066537                  0.032702\n",
       "36        3.581527      69.460416  255.741484                  0.000798\n",
       "37        3.959729      71.208296  297.522137                  0.022516\n",
       "38        3.415560      69.129282  195.178867                  0.000624"
      ]
     },
     "execution_count": 112,
     "metadata": {},
     "output_type": "execute_result"
    }
   ],
   "source": [
    "import sqlite3\n",
    "import numpy as np\n",
    "import pandas as pd\n",
    "import scipy.stats as st\n",
    "import matplotlib.pyplot as plt\n",
    "%matplotlib inline\n",
    "\n",
    "db_file = 'elderspeak_detect.db'\n",
    "con = sqlite3.connect(db_file)\n",
    "df = pd.read_sql_query('''select \tpr.spraaksnelheid,\n",
    "                                    pr.geluidsniveau,\n",
    "                                    pr.toonhoogte,\n",
    "                                    tr.textcat_elderspeak_score\n",
    "                          from praat_resultaten pr\n",
    "                          join tekst_resultaten tr on tr.audio_id = pr.audio_id\n",
    "                          join teksten t on t.tekst_id = tr.tekst_id\n",
    "                          where t.methode = 'GOOGLE_ENKEL_NL_BE'\n",
    "                          and pr.spraaksnelheid > 0;''', con)\n",
    "con.close()\n",
    "\n",
    "print(f\"Aantal kolommen: { len(df.columns) }\")\n",
    "print(f\"Aantal rijen: { len(df.index) }\")\n",
    "df.tail()"
   ]
  },
  {
   "cell_type": "code",
   "execution_count": 113,
   "metadata": {},
   "outputs": [],
   "source": [
    "textcat_elderspeak_score = df['textcat_elderspeak_score']\n",
    "spraaksnelheid = df['spraaksnelheid']\n",
    "geluidsniveau = df['geluidsniveau']\n",
    "toonhoogte = df['toonhoogte']\n",
    "\n",
    "o = '''\n",
    "fig, ax = plt.subplots(1, 1)\n",
    "ax.plot(textcat_elderspeak_score, spraaksnelheid, '.')\n",
    "ax.set_xlabel('NLP model')\n",
    "ax.set_ylabel('spraaksnelheid')\n",
    "\n",
    "fig, ax = plt.subplots(1, 1)\n",
    "ax.plot(textcat_elderspeak_score, geluidsniveau, '.')\n",
    "ax.set_xlabel('NLP model')\n",
    "ax.set_ylabel('geluidsniveau')\n",
    "\n",
    "fig, ax = plt.subplots(1, 1)\n",
    "ax.plot(textcat_elderspeak_score, toonhoogte, '.')\n",
    "ax.set_xlabel('NLP model')\n",
    "ax.set_ylabel('toonhoogte')\n",
    "\n",
    "fig, ax = plt.subplots(1, 1)\n",
    "ax.plot(spraaksnelheid, toonhoogte, '.')\n",
    "ax.set_xlabel('spraaksnelheid')\n",
    "ax.set_ylabel('toonhoogte')\n",
    "'''"
   ]
  },
  {
   "cell_type": "code",
   "execution_count": 114,
   "metadata": {},
   "outputs": [
    {
     "data": {
      "text/html": [
       "<div>\n",
       "<style scoped>\n",
       "    .dataframe tbody tr th:only-of-type {\n",
       "        vertical-align: middle;\n",
       "    }\n",
       "\n",
       "    .dataframe tbody tr th {\n",
       "        vertical-align: top;\n",
       "    }\n",
       "\n",
       "    .dataframe thead th {\n",
       "        text-align: right;\n",
       "    }\n",
       "</style>\n",
       "<table border=\"1\" class=\"dataframe\">\n",
       "  <thead>\n",
       "    <tr style=\"text-align: right;\">\n",
       "      <th></th>\n",
       "      <th>spraaksnelheid</th>\n",
       "      <th>geluidsniveau</th>\n",
       "      <th>toonhoogte</th>\n",
       "      <th>textcat_elderspeak_score</th>\n",
       "    </tr>\n",
       "  </thead>\n",
       "  <tbody>\n",
       "    <tr>\n",
       "      <th>spraaksnelheid</th>\n",
       "      <td>1.000000</td>\n",
       "      <td>0.580838</td>\n",
       "      <td>0.109491</td>\n",
       "      <td>-0.156548</td>\n",
       "    </tr>\n",
       "    <tr>\n",
       "      <th>geluidsniveau</th>\n",
       "      <td>0.580838</td>\n",
       "      <td>1.000000</td>\n",
       "      <td>-0.141699</td>\n",
       "      <td>0.151871</td>\n",
       "    </tr>\n",
       "    <tr>\n",
       "      <th>toonhoogte</th>\n",
       "      <td>0.109491</td>\n",
       "      <td>-0.141699</td>\n",
       "      <td>1.000000</td>\n",
       "      <td>-0.285911</td>\n",
       "    </tr>\n",
       "    <tr>\n",
       "      <th>textcat_elderspeak_score</th>\n",
       "      <td>-0.156548</td>\n",
       "      <td>0.151871</td>\n",
       "      <td>-0.285911</td>\n",
       "      <td>1.000000</td>\n",
       "    </tr>\n",
       "  </tbody>\n",
       "</table>\n",
       "</div>"
      ],
      "text/plain": [
       "                          spraaksnelheid  geluidsniveau  toonhoogte  \\\n",
       "spraaksnelheid                  1.000000       0.580838    0.109491   \n",
       "geluidsniveau                   0.580838       1.000000   -0.141699   \n",
       "toonhoogte                      0.109491      -0.141699    1.000000   \n",
       "textcat_elderspeak_score       -0.156548       0.151871   -0.285911   \n",
       "\n",
       "                          textcat_elderspeak_score  \n",
       "spraaksnelheid                           -0.156548  \n",
       "geluidsniveau                             0.151871  \n",
       "toonhoogte                               -0.285911  \n",
       "textcat_elderspeak_score                  1.000000  "
      ]
     },
     "execution_count": 114,
     "metadata": {},
     "output_type": "execute_result"
    }
   ],
   "source": [
    "df.corr()"
   ]
  },
  {
   "cell_type": "code",
   "execution_count": 115,
   "metadata": {},
   "outputs": [],
   "source": [
    "df['textcat_res']           = (df['textcat_elderspeak_score']   > df['textcat_elderspeak_score'].median())\n",
    "df['spraaksnelheid_res']    = (df['spraaksnelheid']             > df['spraaksnelheid'].median())\n",
    "df['geluidsniveau_res']     = (df['geluidsniveau']              > df['geluidsniveau'].median())\n",
    "df['toonhoogte_res']        = (df['toonhoogte']                 > df['toonhoogte'].median())"
   ]
  },
  {
   "cell_type": "code",
   "execution_count": 116,
   "metadata": {},
   "outputs": [
    {
     "data": {
      "text/html": [
       "<div>\n",
       "<style scoped>\n",
       "    .dataframe tbody tr th:only-of-type {\n",
       "        vertical-align: middle;\n",
       "    }\n",
       "\n",
       "    .dataframe tbody tr th {\n",
       "        vertical-align: top;\n",
       "    }\n",
       "\n",
       "    .dataframe thead th {\n",
       "        text-align: right;\n",
       "    }\n",
       "</style>\n",
       "<table border=\"1\" class=\"dataframe\">\n",
       "  <thead>\n",
       "    <tr style=\"text-align: right;\">\n",
       "      <th>spraaksnelheid_res</th>\n",
       "      <th>False</th>\n",
       "      <th>True</th>\n",
       "    </tr>\n",
       "    <tr>\n",
       "      <th>textcat_res</th>\n",
       "      <th></th>\n",
       "      <th></th>\n",
       "    </tr>\n",
       "  </thead>\n",
       "  <tbody>\n",
       "    <tr>\n",
       "      <th>False</th>\n",
       "      <td>9</td>\n",
       "      <td>11</td>\n",
       "    </tr>\n",
       "    <tr>\n",
       "      <th>True</th>\n",
       "      <td>11</td>\n",
       "      <td>8</td>\n",
       "    </tr>\n",
       "  </tbody>\n",
       "</table>\n",
       "</div>"
      ],
      "text/plain": [
       "spraaksnelheid_res  False  True\n",
       "textcat_res                    \n",
       "False                   9    11\n",
       "True                   11     8"
      ]
     },
     "execution_count": 116,
     "metadata": {},
     "output_type": "execute_result"
    }
   ],
   "source": [
    "pd.crosstab(df['textcat_res'], df['spraaksnelheid_res'])"
   ]
  },
  {
   "cell_type": "code",
   "execution_count": 117,
   "metadata": {},
   "outputs": [
    {
     "name": "stdout",
     "output_type": "stream",
     "text": [
      "p-waarde = 0.6278117988430432\n",
      "geen statistisch significante correlatie\n"
     ]
    }
   ],
   "source": [
    "p = st.chi2_contingency(_)[1]\n",
    "print('p-waarde = ' + str(p))\n",
    "if p < 0.05:\n",
    "    print('statistisch significante correlatie')\n",
    "else:\n",
    "    print('geen statistisch significante correlatie')"
   ]
  },
  {
   "cell_type": "code",
   "execution_count": 118,
   "metadata": {},
   "outputs": [
    {
     "data": {
      "text/html": [
       "<div>\n",
       "<style scoped>\n",
       "    .dataframe tbody tr th:only-of-type {\n",
       "        vertical-align: middle;\n",
       "    }\n",
       "\n",
       "    .dataframe tbody tr th {\n",
       "        vertical-align: top;\n",
       "    }\n",
       "\n",
       "    .dataframe thead th {\n",
       "        text-align: right;\n",
       "    }\n",
       "</style>\n",
       "<table border=\"1\" class=\"dataframe\">\n",
       "  <thead>\n",
       "    <tr style=\"text-align: right;\">\n",
       "      <th>geluidsniveau_res</th>\n",
       "      <th>False</th>\n",
       "      <th>True</th>\n",
       "    </tr>\n",
       "    <tr>\n",
       "      <th>textcat_res</th>\n",
       "      <th></th>\n",
       "      <th></th>\n",
       "    </tr>\n",
       "  </thead>\n",
       "  <tbody>\n",
       "    <tr>\n",
       "      <th>False</th>\n",
       "      <td>13</td>\n",
       "      <td>7</td>\n",
       "    </tr>\n",
       "    <tr>\n",
       "      <th>True</th>\n",
       "      <td>7</td>\n",
       "      <td>12</td>\n",
       "    </tr>\n",
       "  </tbody>\n",
       "</table>\n",
       "</div>"
      ],
      "text/plain": [
       "geluidsniveau_res  False  True\n",
       "textcat_res                   \n",
       "False                 13     7\n",
       "True                   7    12"
      ]
     },
     "execution_count": 118,
     "metadata": {},
     "output_type": "execute_result"
    }
   ],
   "source": [
    "pd.crosstab(df['textcat_res'], df['geluidsniveau_res'])"
   ]
  },
  {
   "cell_type": "code",
   "execution_count": 119,
   "metadata": {},
   "outputs": [
    {
     "name": "stdout",
     "output_type": "stream",
     "text": [
      "p-waarde = 0.15043605160594425\n",
      "geen statistisch significante correlatie\n"
     ]
    }
   ],
   "source": [
    "p = st.chi2_contingency(_)[1]\n",
    "print('p-waarde = ' + str(p))\n",
    "if p < 0.05:\n",
    "    print('statistisch significante correlatie')\n",
    "else:\n",
    "    print('geen statistisch significante correlatie')"
   ]
  },
  {
   "cell_type": "code",
   "execution_count": 120,
   "metadata": {},
   "outputs": [
    {
     "data": {
      "text/html": [
       "<div>\n",
       "<style scoped>\n",
       "    .dataframe tbody tr th:only-of-type {\n",
       "        vertical-align: middle;\n",
       "    }\n",
       "\n",
       "    .dataframe tbody tr th {\n",
       "        vertical-align: top;\n",
       "    }\n",
       "\n",
       "    .dataframe thead th {\n",
       "        text-align: right;\n",
       "    }\n",
       "</style>\n",
       "<table border=\"1\" class=\"dataframe\">\n",
       "  <thead>\n",
       "    <tr style=\"text-align: right;\">\n",
       "      <th>toonhoogte_res</th>\n",
       "      <th>False</th>\n",
       "      <th>True</th>\n",
       "    </tr>\n",
       "    <tr>\n",
       "      <th>textcat_res</th>\n",
       "      <th></th>\n",
       "      <th></th>\n",
       "    </tr>\n",
       "  </thead>\n",
       "  <tbody>\n",
       "    <tr>\n",
       "      <th>False</th>\n",
       "      <td>10</td>\n",
       "      <td>10</td>\n",
       "    </tr>\n",
       "    <tr>\n",
       "      <th>True</th>\n",
       "      <td>10</td>\n",
       "      <td>9</td>\n",
       "    </tr>\n",
       "  </tbody>\n",
       "</table>\n",
       "</div>"
      ],
      "text/plain": [
       "toonhoogte_res  False  True\n",
       "textcat_res                \n",
       "False              10    10\n",
       "True               10     9"
      ]
     },
     "execution_count": 120,
     "metadata": {},
     "output_type": "execute_result"
    }
   ],
   "source": [
    "pd.crosstab(df['textcat_res'], df['toonhoogte_res'])"
   ]
  },
  {
   "cell_type": "code",
   "execution_count": 121,
   "metadata": {},
   "outputs": [
    {
     "name": "stdout",
     "output_type": "stream",
     "text": [
      "p-waarde = 1.0\n",
      "geen statistisch significante correlatie\n"
     ]
    }
   ],
   "source": [
    "p = st.chi2_contingency(_)[1]\n",
    "print('p-waarde = ' + str(p))\n",
    "if p < 0.05:\n",
    "    print('statistisch significante correlatie')\n",
    "else:\n",
    "    print('geen statistisch significante correlatie')"
   ]
  },
  {
   "cell_type": "code",
   "execution_count": 122,
   "metadata": {},
   "outputs": [
    {
     "data": {
      "text/html": [
       "<div>\n",
       "<style scoped>\n",
       "    .dataframe tbody tr th:only-of-type {\n",
       "        vertical-align: middle;\n",
       "    }\n",
       "\n",
       "    .dataframe tbody tr th {\n",
       "        vertical-align: top;\n",
       "    }\n",
       "\n",
       "    .dataframe thead th {\n",
       "        text-align: right;\n",
       "    }\n",
       "</style>\n",
       "<table border=\"1\" class=\"dataframe\">\n",
       "  <thead>\n",
       "    <tr style=\"text-align: right;\">\n",
       "      <th>textcat_res</th>\n",
       "      <th>False</th>\n",
       "      <th>True</th>\n",
       "    </tr>\n",
       "    <tr>\n",
       "      <th>spraaksnelheid_res</th>\n",
       "      <th></th>\n",
       "      <th></th>\n",
       "    </tr>\n",
       "  </thead>\n",
       "  <tbody>\n",
       "    <tr>\n",
       "      <th>False</th>\n",
       "      <td>9</td>\n",
       "      <td>11</td>\n",
       "    </tr>\n",
       "    <tr>\n",
       "      <th>True</th>\n",
       "      <td>11</td>\n",
       "      <td>8</td>\n",
       "    </tr>\n",
       "  </tbody>\n",
       "</table>\n",
       "</div>"
      ],
      "text/plain": [
       "textcat_res         False  True\n",
       "spraaksnelheid_res             \n",
       "False                   9    11\n",
       "True                   11     8"
      ]
     },
     "execution_count": 122,
     "metadata": {},
     "output_type": "execute_result"
    }
   ],
   "source": [
    "pd.crosstab(df['spraaksnelheid_res'], df['textcat_res'])"
   ]
  },
  {
   "cell_type": "code",
   "execution_count": 123,
   "metadata": {},
   "outputs": [
    {
     "name": "stdout",
     "output_type": "stream",
     "text": [
      "p-waarde = 0.6278117988430432\n",
      "geen statistisch significante correlatie\n"
     ]
    }
   ],
   "source": [
    "p = st.chi2_contingency(_)[1]\n",
    "print('p-waarde = ' + str(p))\n",
    "if p < 0.05:\n",
    "    print('statistisch significante correlatie')\n",
    "else:\n",
    "    print('geen statistisch significante correlatie')"
   ]
  },
  {
   "cell_type": "code",
   "execution_count": 124,
   "metadata": {},
   "outputs": [
    {
     "data": {
      "text/html": [
       "<div>\n",
       "<style scoped>\n",
       "    .dataframe tbody tr th:only-of-type {\n",
       "        vertical-align: middle;\n",
       "    }\n",
       "\n",
       "    .dataframe tbody tr th {\n",
       "        vertical-align: top;\n",
       "    }\n",
       "\n",
       "    .dataframe thead th {\n",
       "        text-align: right;\n",
       "    }\n",
       "</style>\n",
       "<table border=\"1\" class=\"dataframe\">\n",
       "  <thead>\n",
       "    <tr style=\"text-align: right;\">\n",
       "      <th>geluidsniveau_res</th>\n",
       "      <th>False</th>\n",
       "      <th>True</th>\n",
       "    </tr>\n",
       "    <tr>\n",
       "      <th>spraaksnelheid_res</th>\n",
       "      <th></th>\n",
       "      <th></th>\n",
       "    </tr>\n",
       "  </thead>\n",
       "  <tbody>\n",
       "    <tr>\n",
       "      <th>False</th>\n",
       "      <td>12</td>\n",
       "      <td>8</td>\n",
       "    </tr>\n",
       "    <tr>\n",
       "      <th>True</th>\n",
       "      <td>8</td>\n",
       "      <td>11</td>\n",
       "    </tr>\n",
       "  </tbody>\n",
       "</table>\n",
       "</div>"
      ],
      "text/plain": [
       "geluidsniveau_res   False  True\n",
       "spraaksnelheid_res             \n",
       "False                  12     8\n",
       "True                    8    11"
      ]
     },
     "execution_count": 124,
     "metadata": {},
     "output_type": "execute_result"
    }
   ],
   "source": [
    "pd.crosstab(df['spraaksnelheid_res'], df['geluidsniveau_res'])"
   ]
  },
  {
   "cell_type": "code",
   "execution_count": 125,
   "metadata": {},
   "outputs": [
    {
     "name": "stdout",
     "output_type": "stream",
     "text": [
      "p-waarde = 0.42541679263711385\n",
      "geen statistisch significante correlatie\n"
     ]
    }
   ],
   "source": [
    "p = st.chi2_contingency(_)[1]\n",
    "print('p-waarde = ' + str(p))\n",
    "if p < 0.05:\n",
    "    print('statistisch significante correlatie')\n",
    "else:\n",
    "    print('geen statistisch significante correlatie')"
   ]
  },
  {
   "cell_type": "code",
   "execution_count": 126,
   "metadata": {},
   "outputs": [
    {
     "data": {
      "text/html": [
       "<div>\n",
       "<style scoped>\n",
       "    .dataframe tbody tr th:only-of-type {\n",
       "        vertical-align: middle;\n",
       "    }\n",
       "\n",
       "    .dataframe tbody tr th {\n",
       "        vertical-align: top;\n",
       "    }\n",
       "\n",
       "    .dataframe thead th {\n",
       "        text-align: right;\n",
       "    }\n",
       "</style>\n",
       "<table border=\"1\" class=\"dataframe\">\n",
       "  <thead>\n",
       "    <tr style=\"text-align: right;\">\n",
       "      <th>toonhoogte_res</th>\n",
       "      <th>False</th>\n",
       "      <th>True</th>\n",
       "    </tr>\n",
       "    <tr>\n",
       "      <th>spraaksnelheid_res</th>\n",
       "      <th></th>\n",
       "      <th></th>\n",
       "    </tr>\n",
       "  </thead>\n",
       "  <tbody>\n",
       "    <tr>\n",
       "      <th>False</th>\n",
       "      <td>11</td>\n",
       "      <td>9</td>\n",
       "    </tr>\n",
       "    <tr>\n",
       "      <th>True</th>\n",
       "      <td>9</td>\n",
       "      <td>10</td>\n",
       "    </tr>\n",
       "  </tbody>\n",
       "</table>\n",
       "</div>"
      ],
      "text/plain": [
       "toonhoogte_res      False  True\n",
       "spraaksnelheid_res             \n",
       "False                  11     9\n",
       "True                    9    10"
      ]
     },
     "execution_count": 126,
     "metadata": {},
     "output_type": "execute_result"
    }
   ],
   "source": [
    "pd.crosstab(df['spraaksnelheid_res'], df['toonhoogte_res'])"
   ]
  },
  {
   "cell_type": "code",
   "execution_count": 127,
   "metadata": {},
   "outputs": [
    {
     "name": "stdout",
     "output_type": "stream",
     "text": [
      "p-waarde = 0.8759345322834657\n",
      "geen statistisch significante correlatie\n"
     ]
    }
   ],
   "source": [
    "p = st.chi2_contingency(_)[1]\n",
    "print('p-waarde = ' + str(p))\n",
    "if p < 0.05:\n",
    "    print('statistisch significante correlatie')\n",
    "else:\n",
    "    print('geen statistisch significante correlatie')"
   ]
  },
  {
   "cell_type": "code",
   "execution_count": 128,
   "metadata": {},
   "outputs": [
    {
     "data": {
      "text/html": [
       "<div>\n",
       "<style scoped>\n",
       "    .dataframe tbody tr th:only-of-type {\n",
       "        vertical-align: middle;\n",
       "    }\n",
       "\n",
       "    .dataframe tbody tr th {\n",
       "        vertical-align: top;\n",
       "    }\n",
       "\n",
       "    .dataframe thead th {\n",
       "        text-align: right;\n",
       "    }\n",
       "</style>\n",
       "<table border=\"1\" class=\"dataframe\">\n",
       "  <thead>\n",
       "    <tr style=\"text-align: right;\">\n",
       "      <th>textcat_res</th>\n",
       "      <th>False</th>\n",
       "      <th>True</th>\n",
       "    </tr>\n",
       "    <tr>\n",
       "      <th>geluidsniveau_res</th>\n",
       "      <th></th>\n",
       "      <th></th>\n",
       "    </tr>\n",
       "  </thead>\n",
       "  <tbody>\n",
       "    <tr>\n",
       "      <th>False</th>\n",
       "      <td>13</td>\n",
       "      <td>7</td>\n",
       "    </tr>\n",
       "    <tr>\n",
       "      <th>True</th>\n",
       "      <td>7</td>\n",
       "      <td>12</td>\n",
       "    </tr>\n",
       "  </tbody>\n",
       "</table>\n",
       "</div>"
      ],
      "text/plain": [
       "textcat_res        False  True\n",
       "geluidsniveau_res             \n",
       "False                 13     7\n",
       "True                   7    12"
      ]
     },
     "execution_count": 128,
     "metadata": {},
     "output_type": "execute_result"
    }
   ],
   "source": [
    "pd.crosstab(df['geluidsniveau_res'], df['textcat_res'])"
   ]
  },
  {
   "cell_type": "code",
   "execution_count": 129,
   "metadata": {},
   "outputs": [
    {
     "name": "stdout",
     "output_type": "stream",
     "text": [
      "p-waarde = 0.15043605160594425\n",
      "geen statistisch significante correlatie\n"
     ]
    }
   ],
   "source": [
    "p = st.chi2_contingency(_)[1]\n",
    "print('p-waarde = ' + str(p))\n",
    "if p < 0.05:\n",
    "    print('statistisch significante correlatie')\n",
    "else:\n",
    "    print('geen statistisch significante correlatie')"
   ]
  },
  {
   "cell_type": "code",
   "execution_count": 130,
   "metadata": {},
   "outputs": [
    {
     "data": {
      "text/html": [
       "<div>\n",
       "<style scoped>\n",
       "    .dataframe tbody tr th:only-of-type {\n",
       "        vertical-align: middle;\n",
       "    }\n",
       "\n",
       "    .dataframe tbody tr th {\n",
       "        vertical-align: top;\n",
       "    }\n",
       "\n",
       "    .dataframe thead th {\n",
       "        text-align: right;\n",
       "    }\n",
       "</style>\n",
       "<table border=\"1\" class=\"dataframe\">\n",
       "  <thead>\n",
       "    <tr style=\"text-align: right;\">\n",
       "      <th>spraaksnelheid_res</th>\n",
       "      <th>False</th>\n",
       "      <th>True</th>\n",
       "    </tr>\n",
       "    <tr>\n",
       "      <th>geluidsniveau_res</th>\n",
       "      <th></th>\n",
       "      <th></th>\n",
       "    </tr>\n",
       "  </thead>\n",
       "  <tbody>\n",
       "    <tr>\n",
       "      <th>False</th>\n",
       "      <td>12</td>\n",
       "      <td>8</td>\n",
       "    </tr>\n",
       "    <tr>\n",
       "      <th>True</th>\n",
       "      <td>8</td>\n",
       "      <td>11</td>\n",
       "    </tr>\n",
       "  </tbody>\n",
       "</table>\n",
       "</div>"
      ],
      "text/plain": [
       "spraaksnelheid_res  False  True\n",
       "geluidsniveau_res              \n",
       "False                  12     8\n",
       "True                    8    11"
      ]
     },
     "execution_count": 130,
     "metadata": {},
     "output_type": "execute_result"
    }
   ],
   "source": [
    "pd.crosstab(df['geluidsniveau_res'], df['spraaksnelheid_res'])"
   ]
  },
  {
   "cell_type": "code",
   "execution_count": 131,
   "metadata": {},
   "outputs": [
    {
     "name": "stdout",
     "output_type": "stream",
     "text": [
      "p-waarde = 0.42541679263711385\n",
      "geen statistisch significante correlatie\n"
     ]
    }
   ],
   "source": [
    "p = st.chi2_contingency(_)[1]\n",
    "print('p-waarde = ' + str(p))\n",
    "if p < 0.05:\n",
    "    print('statistisch significante correlatie')\n",
    "else:\n",
    "    print('geen statistisch significante correlatie')"
   ]
  },
  {
   "cell_type": "code",
   "execution_count": 132,
   "metadata": {},
   "outputs": [
    {
     "data": {
      "text/html": [
       "<div>\n",
       "<style scoped>\n",
       "    .dataframe tbody tr th:only-of-type {\n",
       "        vertical-align: middle;\n",
       "    }\n",
       "\n",
       "    .dataframe tbody tr th {\n",
       "        vertical-align: top;\n",
       "    }\n",
       "\n",
       "    .dataframe thead th {\n",
       "        text-align: right;\n",
       "    }\n",
       "</style>\n",
       "<table border=\"1\" class=\"dataframe\">\n",
       "  <thead>\n",
       "    <tr style=\"text-align: right;\">\n",
       "      <th>toonhoogte_res</th>\n",
       "      <th>False</th>\n",
       "      <th>True</th>\n",
       "    </tr>\n",
       "    <tr>\n",
       "      <th>geluidsniveau_res</th>\n",
       "      <th></th>\n",
       "      <th></th>\n",
       "    </tr>\n",
       "  </thead>\n",
       "  <tbody>\n",
       "    <tr>\n",
       "      <th>False</th>\n",
       "      <td>10</td>\n",
       "      <td>10</td>\n",
       "    </tr>\n",
       "    <tr>\n",
       "      <th>True</th>\n",
       "      <td>10</td>\n",
       "      <td>9</td>\n",
       "    </tr>\n",
       "  </tbody>\n",
       "</table>\n",
       "</div>"
      ],
      "text/plain": [
       "toonhoogte_res     False  True\n",
       "geluidsniveau_res             \n",
       "False                 10    10\n",
       "True                  10     9"
      ]
     },
     "execution_count": 132,
     "metadata": {},
     "output_type": "execute_result"
    }
   ],
   "source": [
    "pd.crosstab(df['geluidsniveau_res'], df['toonhoogte_res'])"
   ]
  },
  {
   "cell_type": "code",
   "execution_count": 133,
   "metadata": {},
   "outputs": [
    {
     "name": "stdout",
     "output_type": "stream",
     "text": [
      "p-waarde = 1.0\n",
      "geen statistisch significante correlatie\n"
     ]
    }
   ],
   "source": [
    "p = st.chi2_contingency(_)[1]\n",
    "print('p-waarde = ' + str(p))\n",
    "if p < 0.05:\n",
    "    print('statistisch significante correlatie')\n",
    "else:\n",
    "    print('geen statistisch significante correlatie')"
   ]
  },
  {
   "cell_type": "code",
   "execution_count": 134,
   "metadata": {},
   "outputs": [
    {
     "data": {
      "text/html": [
       "<div>\n",
       "<style scoped>\n",
       "    .dataframe tbody tr th:only-of-type {\n",
       "        vertical-align: middle;\n",
       "    }\n",
       "\n",
       "    .dataframe tbody tr th {\n",
       "        vertical-align: top;\n",
       "    }\n",
       "\n",
       "    .dataframe thead th {\n",
       "        text-align: right;\n",
       "    }\n",
       "</style>\n",
       "<table border=\"1\" class=\"dataframe\">\n",
       "  <thead>\n",
       "    <tr style=\"text-align: right;\">\n",
       "      <th>textcat_res</th>\n",
       "      <th>False</th>\n",
       "      <th>True</th>\n",
       "    </tr>\n",
       "    <tr>\n",
       "      <th>toonhoogte_res</th>\n",
       "      <th></th>\n",
       "      <th></th>\n",
       "    </tr>\n",
       "  </thead>\n",
       "  <tbody>\n",
       "    <tr>\n",
       "      <th>False</th>\n",
       "      <td>10</td>\n",
       "      <td>10</td>\n",
       "    </tr>\n",
       "    <tr>\n",
       "      <th>True</th>\n",
       "      <td>10</td>\n",
       "      <td>9</td>\n",
       "    </tr>\n",
       "  </tbody>\n",
       "</table>\n",
       "</div>"
      ],
      "text/plain": [
       "textcat_res     False  True\n",
       "toonhoogte_res             \n",
       "False              10    10\n",
       "True               10     9"
      ]
     },
     "execution_count": 134,
     "metadata": {},
     "output_type": "execute_result"
    }
   ],
   "source": [
    "pd.crosstab(df['toonhoogte_res'], df['textcat_res'])"
   ]
  },
  {
   "cell_type": "code",
   "execution_count": 135,
   "metadata": {},
   "outputs": [
    {
     "name": "stdout",
     "output_type": "stream",
     "text": [
      "p-waarde = 1.0\n",
      "geen statistisch significante correlatie\n"
     ]
    }
   ],
   "source": [
    "p = st.chi2_contingency(_)[1]\n",
    "print('p-waarde = ' + str(p))\n",
    "if p < 0.05:\n",
    "    print('statistisch significante correlatie')\n",
    "else:\n",
    "    print('geen statistisch significante correlatie')"
   ]
  },
  {
   "cell_type": "code",
   "execution_count": 136,
   "metadata": {},
   "outputs": [
    {
     "data": {
      "text/html": [
       "<div>\n",
       "<style scoped>\n",
       "    .dataframe tbody tr th:only-of-type {\n",
       "        vertical-align: middle;\n",
       "    }\n",
       "\n",
       "    .dataframe tbody tr th {\n",
       "        vertical-align: top;\n",
       "    }\n",
       "\n",
       "    .dataframe thead th {\n",
       "        text-align: right;\n",
       "    }\n",
       "</style>\n",
       "<table border=\"1\" class=\"dataframe\">\n",
       "  <thead>\n",
       "    <tr style=\"text-align: right;\">\n",
       "      <th>spraaksnelheid_res</th>\n",
       "      <th>False</th>\n",
       "      <th>True</th>\n",
       "    </tr>\n",
       "    <tr>\n",
       "      <th>toonhoogte_res</th>\n",
       "      <th></th>\n",
       "      <th></th>\n",
       "    </tr>\n",
       "  </thead>\n",
       "  <tbody>\n",
       "    <tr>\n",
       "      <th>False</th>\n",
       "      <td>11</td>\n",
       "      <td>9</td>\n",
       "    </tr>\n",
       "    <tr>\n",
       "      <th>True</th>\n",
       "      <td>9</td>\n",
       "      <td>10</td>\n",
       "    </tr>\n",
       "  </tbody>\n",
       "</table>\n",
       "</div>"
      ],
      "text/plain": [
       "spraaksnelheid_res  False  True\n",
       "toonhoogte_res                 \n",
       "False                  11     9\n",
       "True                    9    10"
      ]
     },
     "execution_count": 136,
     "metadata": {},
     "output_type": "execute_result"
    }
   ],
   "source": [
    "pd.crosstab(df['toonhoogte_res'], df['spraaksnelheid_res'])"
   ]
  },
  {
   "cell_type": "code",
   "execution_count": 137,
   "metadata": {},
   "outputs": [
    {
     "name": "stdout",
     "output_type": "stream",
     "text": [
      "p-waarde = 0.8759345322834657\n",
      "geen statistisch significante correlatie\n"
     ]
    }
   ],
   "source": [
    "p = st.chi2_contingency(_)[1]\n",
    "print('p-waarde = ' + str(p))\n",
    "if p < 0.05:\n",
    "    print('statistisch significante correlatie')\n",
    "else:\n",
    "    print('geen statistisch significante correlatie')"
   ]
  },
  {
   "cell_type": "code",
   "execution_count": 138,
   "metadata": {},
   "outputs": [
    {
     "data": {
      "text/html": [
       "<div>\n",
       "<style scoped>\n",
       "    .dataframe tbody tr th:only-of-type {\n",
       "        vertical-align: middle;\n",
       "    }\n",
       "\n",
       "    .dataframe tbody tr th {\n",
       "        vertical-align: top;\n",
       "    }\n",
       "\n",
       "    .dataframe thead th {\n",
       "        text-align: right;\n",
       "    }\n",
       "</style>\n",
       "<table border=\"1\" class=\"dataframe\">\n",
       "  <thead>\n",
       "    <tr style=\"text-align: right;\">\n",
       "      <th>geluidsniveau_res</th>\n",
       "      <th>False</th>\n",
       "      <th>True</th>\n",
       "    </tr>\n",
       "    <tr>\n",
       "      <th>toonhoogte_res</th>\n",
       "      <th></th>\n",
       "      <th></th>\n",
       "    </tr>\n",
       "  </thead>\n",
       "  <tbody>\n",
       "    <tr>\n",
       "      <th>False</th>\n",
       "      <td>10</td>\n",
       "      <td>10</td>\n",
       "    </tr>\n",
       "    <tr>\n",
       "      <th>True</th>\n",
       "      <td>10</td>\n",
       "      <td>9</td>\n",
       "    </tr>\n",
       "  </tbody>\n",
       "</table>\n",
       "</div>"
      ],
      "text/plain": [
       "geluidsniveau_res  False  True\n",
       "toonhoogte_res                \n",
       "False                 10    10\n",
       "True                  10     9"
      ]
     },
     "execution_count": 138,
     "metadata": {},
     "output_type": "execute_result"
    }
   ],
   "source": [
    "pd.crosstab(df['toonhoogte_res'], df['geluidsniveau_res'])"
   ]
  },
  {
   "cell_type": "code",
   "execution_count": 139,
   "metadata": {},
   "outputs": [
    {
     "name": "stdout",
     "output_type": "stream",
     "text": [
      "p-waarde = 1.0\n",
      "geen statistisch significante correlatie\n"
     ]
    }
   ],
   "source": [
    "p = st.chi2_contingency(_)[1]\n",
    "print('p-waarde = ' + str(p))\n",
    "if p < 0.05:\n",
    "    print('statistisch significante correlatie')\n",
    "else:\n",
    "    print('geen statistisch significante correlatie')"
   ]
  }
 ],
 "metadata": {
  "interpreter": {
   "hash": "234ae9a461af8731f16be4e674333b755216e5335b7ae2874707933750cadcd6"
  },
  "kernelspec": {
   "display_name": "Python 3.9.1 ('env': venv)",
   "language": "python",
   "name": "python3"
  },
  "language_info": {
   "codemirror_mode": {
    "name": "ipython",
    "version": 3
   },
   "file_extension": ".py",
   "mimetype": "text/x-python",
   "name": "python",
   "nbconvert_exporter": "python",
   "pygments_lexer": "ipython3",
   "version": "3.9.1"
  },
  "orig_nbformat": 4
 },
 "nbformat": 4,
 "nbformat_minor": 2
}
